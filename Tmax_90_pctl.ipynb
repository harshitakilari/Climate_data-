{
  "nbformat": 4,
  "nbformat_minor": 0,
  "metadata": {
    "colab": {
      "provenance": [],
      "authorship_tag": "ABX9TyNTXANd/bOfNwSz0yB22XSe",
      "include_colab_link": true
    },
    "kernelspec": {
      "name": "python3",
      "display_name": "Python 3"
    },
    "language_info": {
      "name": "python"
    }
  },
  "cells": [
    {
      "cell_type": "markdown",
      "metadata": {
        "id": "view-in-github",
        "colab_type": "text"
      },
      "source": [
        "<a href=\"https://colab.research.google.com/github/harshitakilari/Climate_data-/blob/main/Tmax_90_pctl.ipynb\" target=\"_parent\"><img src=\"https://colab.research.google.com/assets/colab-badge.svg\" alt=\"Open In Colab\"/></a>"
      ]
    },
    {
      "cell_type": "code",
      "execution_count": null,
      "metadata": {
        "colab": {
          "base_uri": "https://localhost:8080/"
        },
        "id": "8M4moClLUKj2",
        "outputId": "b7cb1fac-193b-43b0-ef42-96e4e8239508"
      },
      "outputs": [
        {
          "output_type": "stream",
          "name": "stdout",
          "text": [
            "Collecting netCDF4\n",
            "  Downloading netCDF4-1.6.4-cp310-cp310-manylinux_2_17_x86_64.manylinux2014_x86_64.whl (5.4 MB)\n",
            "\u001b[2K     \u001b[90m━━━━━━━━━━━━━━━━━━━━━━━━━━━━━━━━━━━━━━━━\u001b[0m \u001b[32m5.4/5.4 MB\u001b[0m \u001b[31m39.8 MB/s\u001b[0m eta \u001b[36m0:00:00\u001b[0m\n",
            "\u001b[?25hCollecting cftime (from netCDF4)\n",
            "  Downloading cftime-1.6.3-cp310-cp310-manylinux_2_17_x86_64.manylinux2014_x86_64.whl (1.3 MB)\n",
            "\u001b[2K     \u001b[90m━━━━━━━━━━━━━━━━━━━━━━━━━━━━━━━━━━━━━━━━\u001b[0m \u001b[32m1.3/1.3 MB\u001b[0m \u001b[31m73.8 MB/s\u001b[0m eta \u001b[36m0:00:00\u001b[0m\n",
            "\u001b[?25hRequirement already satisfied: certifi in /usr/local/lib/python3.10/dist-packages (from netCDF4) (2023.7.22)\n",
            "Requirement already satisfied: numpy in /usr/local/lib/python3.10/dist-packages (from netCDF4) (1.23.5)\n",
            "Installing collected packages: cftime, netCDF4\n",
            "Successfully installed cftime-1.6.3 netCDF4-1.6.4\n"
          ]
        }
      ],
      "source": [
        "%pip install netCDF4"
      ]
    },
    {
      "cell_type": "code",
      "source": [
        "import netCDF4 as nc"
      ],
      "metadata": {
        "id": "D_Nt7jh1UbsT"
      },
      "execution_count": null,
      "outputs": []
    },
    {
      "cell_type": "code",
      "source": [
        "dset=nc.Dataset(r'/content/Tmax_90_pctl_1951_2019.nc')"
      ],
      "metadata": {
        "id": "HK-WdoZGUiFs"
      },
      "execution_count": null,
      "outputs": []
    },
    {
      "cell_type": "code",
      "source": [
        "dset"
      ],
      "metadata": {
        "colab": {
          "base_uri": "https://localhost:8080/"
        },
        "id": "DkbBwtXFUpLO",
        "outputId": "d21b3669-4dd7-4906-9dfd-55cc570c6721"
      },
      "execution_count": null,
      "outputs": [
        {
          "output_type": "execute_result",
          "data": {
            "text/plain": [
              "<class 'netCDF4._netCDF4.Dataset'>\n",
              "root group (NETCDF4 data model, file format HDF5):\n",
              "    CDI: Climate Data Interface version 1.9.9rc1 (https://mpimet.mpg.de/cdi)\n",
              "    Conventions: CF-1.6\n",
              "    history: Thu Oct 19 10:34:35 2023: cdo -f nc4 -timpctl,90 Tmax_IMD_1degree_1951_2019_MAM.nc Timemin.nc Timemax.nc Tmax_90_pctl_1951_2019.nc\n",
              "Thu Oct 19 10:30:07 2023: cdo -f nc4 -selmon,3/5 Tmax_IMD_1degree_1951_2019.nc Tmax_IMD_1degree_1951_2019_MAM.nc\n",
              "Wed Jul 15 15:50:44 2020: cdo -f nc4 mergetime IMD_Tmax_1951.nc IMD_Tmax_1952.nc IMD_Tmax_1953.nc IMD_Tmax_1954.nc IMD_Tmax_1955.nc IMD_Tmax_1956.nc IMD_Tmax_1957.nc IMD_Tmax_1958.nc IMD_Tmax_1959.nc IMD_Tmax_1960.nc IMD_Tmax_1961.nc IMD_Tmax_1962.nc IMD_Tmax_1963.nc IMD_Tmax_1964.nc IMD_Tmax_1965.nc IMD_Tmax_1966.nc IMD_Tmax_1967.nc IMD_Tmax_1968.nc IMD_Tmax_1969.nc IMD_Tmax_1970.nc IMD_Tmax_1971.nc IMD_Tmax_1972.nc IMD_Tmax_1973.nc IMD_Tmax_1974.nc IMD_Tmax_1975.nc IMD_Tmax_1976.nc IMD_Tmax_1977.nc IMD_Tmax_1978.nc IMD_Tmax_1979.nc IMD_Tmax_1980.nc IMD_Tmax_1981.nc IMD_Tmax_1982.nc IMD_Tmax_1983.nc IMD_Tmax_1984.nc IMD_Tmax_1985.nc IMD_Tmax_1986.nc IMD_Tmax_1987.nc IMD_Tmax_1988.nc IMD_Tmax_1989.nc IMD_Tmax_1990.nc IMD_Tmax_1991.nc IMD_Tmax_1992.nc IMD_Tmax_1993.nc IMD_Tmax_1994.nc IMD_Tmax_1995.nc IMD_Tmax_1996.nc IMD_Tmax_1997.nc IMD_Tmax_1998.nc IMD_Tmax_1999.nc IMD_Tmax_2000.nc IMD_Tmax_2001.nc IMD_Tmax_2002.nc IMD_Tmax_2003.nc IMD_Tmax_2004.nc IMD_Tmax_2005.nc IMD_Tmax_2006.nc IMD_Tmax_2007.nc IMD_Tmax_2008.nc IMD_Tmax_2009.nc IMD_Tmax_2010.nc IMD_Tmax_2011.nc IMD_Tmax_2012.nc IMD_Tmax_2013.nc IMD_Tmax_2014.nc IMD_Tmax_2015.nc IMD_Tmax_2016.nc IMD_Tmax_2017.nc IMD_Tmax_2018.nc IMD_Tmax_2019.nc Tmax_IMD_1degree_1951_2019.nc\n",
              "Wed Jul 15 15:21:07 2020: cdo -f nc4 import_binary Temp.ctl IMD_Tmax_1951.nc\n",
              "    CDO: Climate Data Operators version 1.9.9rc1 (https://mpimet.mpg.de/cdo)\n",
              "    dimensions(sizes): time(1), bnds(2), lon(31), lat(31)\n",
              "    variables(dimensions): float64 time(time), float64 time_bnds(time, bnds), float64 lon(lon), float64 lat(lat), float32 t(time, lat, lon)\n",
              "    groups: "
            ]
          },
          "metadata": {},
          "execution_count": 4
        }
      ]
    },
    {
      "cell_type": "code",
      "source": [],
      "metadata": {
        "id": "3V8shoA8UsGv"
      },
      "execution_count": null,
      "outputs": []
    }
  ]
}