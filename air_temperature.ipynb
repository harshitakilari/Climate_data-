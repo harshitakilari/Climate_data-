{
  "nbformat": 4,
  "nbformat_minor": 0,
  "metadata": {
    "colab": {
      "provenance": [],
      "authorship_tag": "ABX9TyM5PXhQUlBkXCoZpeSzVy1K",
      "include_colab_link": true
    },
    "kernelspec": {
      "name": "python3",
      "display_name": "Python 3"
    },
    "language_info": {
      "name": "python"
    }
  },
  "cells": [
    {
      "cell_type": "markdown",
      "metadata": {
        "id": "view-in-github",
        "colab_type": "text"
      },
      "source": [
        "<a href=\"https://colab.research.google.com/github/harshitakilari/Climate_data-/blob/main/air_temperature.ipynb\" target=\"_parent\"><img src=\"https://colab.research.google.com/assets/colab-badge.svg\" alt=\"Open In Colab\"/></a>"
      ]
    },
    {
      "cell_type": "code",
      "execution_count": null,
      "metadata": {
        "colab": {
          "base_uri": "https://localhost:8080/"
        },
        "id": "ICwqfmaBRs3H",
        "outputId": "18e550dd-879f-49e9-cb72-1755f2e24f25"
      },
      "outputs": [
        {
          "output_type": "stream",
          "name": "stdout",
          "text": [
            "Collecting netCDF4\n",
            "  Downloading netCDF4-1.6.4-cp310-cp310-manylinux_2_17_x86_64.manylinux2014_x86_64.whl (5.4 MB)\n",
            "\u001b[2K     \u001b[90m━━━━━━━━━━━━━━━━━━━━━━━━━━━━━━━━━━━━━━━━\u001b[0m \u001b[32m5.4/5.4 MB\u001b[0m \u001b[31m35.0 MB/s\u001b[0m eta \u001b[36m0:00:00\u001b[0m\n",
            "\u001b[?25hCollecting cftime (from netCDF4)\n",
            "  Downloading cftime-1.6.3-cp310-cp310-manylinux_2_17_x86_64.manylinux2014_x86_64.whl (1.3 MB)\n",
            "\u001b[2K     \u001b[90m━━━━━━━━━━━━━━━━━━━━━━━━━━━━━━━━━━━━━━━━\u001b[0m \u001b[32m1.3/1.3 MB\u001b[0m \u001b[31m56.1 MB/s\u001b[0m eta \u001b[36m0:00:00\u001b[0m\n",
            "\u001b[?25hRequirement already satisfied: certifi in /usr/local/lib/python3.10/dist-packages (from netCDF4) (2023.7.22)\n",
            "Requirement already satisfied: numpy in /usr/local/lib/python3.10/dist-packages (from netCDF4) (1.23.5)\n",
            "Installing collected packages: cftime, netCDF4\n",
            "Successfully installed cftime-1.6.3 netCDF4-1.6.4\n"
          ]
        }
      ],
      "source": [
        "%pip install netCDF4\n"
      ]
    },
    {
      "cell_type": "code",
      "source": [
        "import netCDF4 as nc"
      ],
      "metadata": {
        "id": "pBpJxvQNSXZM"
      },
      "execution_count": null,
      "outputs": []
    },
    {
      "cell_type": "code",
      "source": [
        "dset=nc.Dataset(r'/content/air_temperature[1].nc')"
      ],
      "metadata": {
        "id": "YZlW664YSrg1"
      },
      "execution_count": null,
      "outputs": []
    },
    {
      "cell_type": "code",
      "source": [
        "dset"
      ],
      "metadata": {
        "colab": {
          "base_uri": "https://localhost:8080/"
        },
        "id": "FHMbQRL4S6GO",
        "outputId": "6fa091a1-33f9-4302-ec34-454bba637267"
      },
      "execution_count": null,
      "outputs": [
        {
          "output_type": "execute_result",
          "data": {
            "text/plain": [
              "<class 'netCDF4._netCDF4.Dataset'>\n",
              "root group (NETCDF3_CLASSIC data model, file format NETCDF3):\n",
              "    Conventions: COARDS\n",
              "    title: 4x daily NMC reanalysis (1948)\n",
              "    description: Data is from NMC initialized reanalysis\n",
              "(4x/day).  These are the 0.9950 sigma level values.\n",
              "    platform: Model\n",
              "    references: http://www.esrl.noaa.gov/psd/data/gridded/data.ncep.reanalysis.html\n",
              "    dimensions(sizes): lat(25), time(2920), lon(53)\n",
              "    variables(dimensions): float32 lat(lat), int16 air(time, lat, lon), float32 lon(lon), float32 time(time)\n",
              "    groups: "
            ]
          },
          "metadata": {},
          "execution_count": 6
        }
      ]
    },
    {
      "cell_type": "code",
      "source": [],
      "metadata": {
        "id": "rg5pWJDBS_V8"
      },
      "execution_count": null,
      "outputs": []
    }
  ]
}